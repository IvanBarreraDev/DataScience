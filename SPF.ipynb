{
 "cells": [
  {
   "cell_type": "code",
   "execution_count": 3,
   "id": "2f8e05a3",
   "metadata": {},
   "outputs": [],
   "source": [
    "import pandas as pd\n",
    "import numpy as np"
   ]
  },
  {
   "cell_type": "code",
   "execution_count": 4,
   "id": "d063c65b",
   "metadata": {},
   "outputs": [],
   "source": [
    "csv_file=open('internos-spf-condenados-202101.csv')"
   ]
  },
  {
   "cell_type": "code",
   "execution_count": 5,
   "id": "25f10954",
   "metadata": {},
   "outputs": [],
   "source": [
    "df=pd.read_csv(csv_file)"
   ]
  },
  {
   "cell_type": "code",
   "execution_count": 6,
   "id": "a2765aed",
   "metadata": {},
   "outputs": [],
   "source": [
    "edad= df['edad']\n",
    "delitos=df['delito']\n",
    "genero=df['genero']\n",
    "profesion = df['profesion']\n"
   ]
  },
  {
   "cell_type": "code",
   "execution_count": 41,
   "id": "b34952e6",
   "metadata": {},
   "outputs": [
    {
     "data": {
      "text/plain": [
       "92.0"
      ]
     },
     "execution_count": 41,
     "metadata": {},
     "output_type": "execute_result"
    }
   ],
   "source": [
    "max_edad = np.max(edad)\n",
    "media = np.mean(edad)\n",
    "max_min = np.min(edad)\n",
    "\n",
    "max_edad\n",
    "max_min\n",
    "media\n"
   ]
  },
  {
   "cell_type": "markdown",
   "id": "97783c61",
   "metadata": {},
   "source": [
    "La edad media de los delicuente es de 32\n",
    "La persona mas grande condenada fue de 92\n",
    "La persona mas chica condenada fue de 18 (A los 18 años en Argentina ya eres considerado mayor de edad)"
   ]
  },
  {
   "cell_type": "code",
   "execution_count": 37,
   "id": "b57d50cc",
   "metadata": {},
   "outputs": [
    {
     "data": {
      "text/plain": [
       "28.0    3005\n",
       "29.0    2948\n",
       "27.0    2924\n",
       "30.0    2806\n",
       "25.0    2725\n",
       "        ... \n",
       "83.0      14\n",
       "81.0      10\n",
       "82.0       5\n",
       "92.0       1\n",
       "90.0       1\n",
       "Name: edad, Length: 68, dtype: int64"
      ]
     },
     "execution_count": 37,
     "metadata": {},
     "output_type": "execute_result"
    }
   ],
   "source": [
    "edades = edad.value_counts()\n",
    "profesiones = profesion.value_counts()\n",
    "delito_mas_cometido=delitos.value_counts()\n",
    "genero_mas_delictivo=genero.value_counts()\n",
    "\n",
    "edades# Obtengo la edad de los criminales\n",
    "profesiones # Obtengo la profesion mas comun \n",
    "delito_mas_cometido # Obtengo el delito mas comun\n",
    "genero_mas_delictivo # Obtengo el genero mas comun\n",
    "\n"
   ]
  },
  {
   "cell_type": "code",
   "execution_count": null,
   "id": "626ac1cb",
   "metadata": {},
   "outputs": [],
   "source": []
  },
  {
   "cell_type": "markdown",
   "id": "2e18d95f",
   "metadata": {},
   "source": [
    "La edad mas comun es : 28(3.005)\n",
    "La profresion mas comun es: Albañil(4.328)\n",
    "El delito mas comun es: Contra la propiedad (24.260)\n",
    "El genero mas comun es : Masculino (64.159)"
   ]
  },
  {
   "cell_type": "code",
   "execution_count": 38,
   "id": "5a3abdc0",
   "metadata": {},
   "outputs": [
    {
     "data": {
      "text/plain": [
       "profesion   delito                                                  edad\n",
       "DESOCUPADO  Contra la Propiedad                                     28.0    489\n",
       "                                                                    27.0    483\n",
       "                                                                    25.0    478\n",
       "                                                                    26.0    437\n",
       "                                                                    29.0    426\n",
       "                                                                           ... \n",
       "ESTUDIANTE   Contra la Integridad Sexual                            30.0      1\n",
       "             Contra la Libertad                                     26.0      1\n",
       "             Contra las Personas                                    26.0      1\n",
       "             Ley NÂ°23737 - Tenencia y trÃ¡fico de estupefacientes  27.0      1\n",
       "ZAPATERO    Ley NÂ°23737 - Tenencia y trÃ¡fico de estupefacientes   25.0      1\n",
       "Length: 1567, dtype: int64"
      ]
     },
     "execution_count": 38,
     "metadata": {},
     "output_type": "execute_result"
    }
   ],
   "source": [
    "#Filtro los delitos y profesiones de los criminales mayores a 25 años y menores a 30\n",
    "dataFrameCopy=df.loc[(df.edad <= 30) & (\n",
    "    df.edad >= 25), ['profesion', 'delito', 'edad']]\n",
    "\n",
    "#dataFrameCopy.profesion.value_counts()#Obtengo la profesion más comun\n",
    "#dataFrameCopy.delito.value_counts()#Obtengo el delito más comun\n",
    "dataFrameCopy.value_counts()# Me informa la cantidad de veces por delito \n"
   ]
  },
  {
   "cell_type": "markdown",
   "id": "71f6f74b",
   "metadata": {},
   "source": [
    "¿De que edad son la mayoria de los criminales? \n",
    "    27-28-29\n",
    "¿Que profesión tenian la mayoria de los criminales de esa edad?\n",
    "    Si hablamos de profesión, los datos nos dicen que la mayoria de los criminales son albañiles. Pero si no hablamos de profesionales podemos decir que la mayoria de los delicuentes no tienen trabajo.\n",
    "¿Que crimenes cometerion la mayoria de los criminales de esa edad?\n",
    "    1-Contra la propieda (8.138)\n",
    "    2-Tenencia y trafico de drogas (4.992)\n",
    "    3-Contra las personas (2.034)\n",
    "    "
   ]
  }
 ],
 "metadata": {
  "interpreter": {
   "hash": "da6eb262efa31d6bed313fda5020b0c57993ff54bce350da53928cda1aa9104b"
  },
  "kernelspec": {
   "display_name": "Python 3.10.2 64-bit",
   "language": "python",
   "name": "python3"
  },
  "language_info": {
   "codemirror_mode": {
    "name": "ipython",
    "version": 3
   },
   "file_extension": ".py",
   "mimetype": "text/x-python",
   "name": "python",
   "nbconvert_exporter": "python",
   "pygments_lexer": "ipython3",
   "version": "3.10.2"
  }
 },
 "nbformat": 4,
 "nbformat_minor": 5
}
