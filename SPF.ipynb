{
 "cells": [
  {
   "cell_type": "code",
   "execution_count": 3,
   "id": "2f8e05a3",
   "metadata": {},
   "outputs": [],
   "source": [
    "import pandas as pd\n",
    "import numpy as np"
   ]
  },
  {
   "cell_type": "code",
   "execution_count": 80,
   "id": "d063c65b",
   "metadata": {},
   "outputs": [],
   "source": [
    "csv_file=open('internos-spf-condenados-202101.csv')"
   ]
  },
  {
   "cell_type": "code",
   "execution_count": 81,
   "id": "25f10954",
   "metadata": {},
   "outputs": [],
   "source": [
    "df=pd.read_csv(csv_file)"
   ]
  },
  {
   "cell_type": "code",
   "execution_count": 82,
   "id": "a2765aed",
   "metadata": {},
   "outputs": [],
   "source": [
    "edad= df['edad']\n",
    "delitos=df['delito']\n",
    "genero=df['genero']\n",
    "profesion = df['profesion']\n"
   ]
  },
  {
   "cell_type": "code",
   "execution_count": 85,
   "id": "b34952e6",
   "metadata": {},
   "outputs": [
    {
     "data": {
      "text/plain": [
       "18.0"
      ]
     },
     "execution_count": 85,
     "metadata": {},
     "output_type": "execute_result"
    }
   ],
   "source": [
    "max_edad = np.max(edad)\n",
    "media = np.mean(edad)\n",
    "max_min = np.min(edad)\n",
    "max_edad\n",
    "max_min\n",
    "media\n"
   ]
  },
  {
   "cell_type": "code",
   "execution_count": 102,
   "id": "b57d50cc",
   "metadata": {},
   "outputs": [
    {
     "data": {
      "text/plain": [
       "MASCULINO    64159\n",
       "FEMENINO      3466\n",
       "TRANS          147\n",
       "Name: genero, dtype: int64"
      ]
     },
     "execution_count": 102,
     "metadata": {},
     "output_type": "execute_result"
    }
   ],
   "source": [
    "profesiones = profesion.value_counts()\n",
    "delito_mas_cometido=delitos.value_counts()\n",
    "genero_mas_delictivo=genero.value_counts()\n",
    "\n",
    "profesiones\n",
    "delito_mas_cometido\n",
    "genero_mas_delictivo\n",
    "\n"
   ]
  },
  {
   "cell_type": "code",
   "execution_count": 91,
   "id": "cd5e1cf3",
   "metadata": {},
   "outputs": [],
   "source": [
    "\n",
    "#for i in range (2,13):\n",
    "#    if (i<10):\n",
    "#        num='0%s'%i\n",
    "#        #Leo el archivo\n",
    "#        csv_file = open('internos-spf-condenados-2021%s.csv' % num)\n",
    "#        df = pd.read_csv(csv_file)\n",
    "#        #obtengo las columnas que quiero\n",
    "#        edad = df['edad']\n",
    "#        profesion = df['profesion']\n",
    "#        #Obtengo los datos que quiero\n",
    "#        media = np.mean(edad)\n",
    "#    else:\n",
    "#        print(i)\n"
   ]
  },
  {
   "cell_type": "code",
   "execution_count": null,
   "id": "f02a4d80",
   "metadata": {},
   "outputs": [],
   "source": []
  }
 ],
 "metadata": {
  "interpreter": {
   "hash": "da6eb262efa31d6bed313fda5020b0c57993ff54bce350da53928cda1aa9104b"
  },
  "kernelspec": {
   "display_name": "Python 3.10.2 64-bit",
   "language": "python",
   "name": "python3"
  },
  "language_info": {
   "codemirror_mode": {
    "name": "ipython",
    "version": 3
   },
   "file_extension": ".py",
   "mimetype": "text/x-python",
   "name": "python",
   "nbconvert_exporter": "python",
   "pygments_lexer": "ipython3",
   "version": "3.10.2"
  }
 },
 "nbformat": 4,
 "nbformat_minor": 5
}
